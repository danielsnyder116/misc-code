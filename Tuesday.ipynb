{
 "cells": [
  {
   "cell_type": "code",
   "execution_count": 1,
   "metadata": {},
   "outputs": [],
   "source": [
    "from bs4 import BeautifulSoup\n",
    "from selenium import webdriver"
   ]
  },
  {
   "cell_type": "code",
   "execution_count": 7,
   "metadata": {},
   "outputs": [],
   "source": [
    "chrome_options = webdriver.ChromeOptions()\n",
    "chrome_options.add_argument('--no-sandbox')\n",
    "#driver = webdriver.Chrome(executable_path='C:/Users/602770/Downloads/driver/chromedriver.exe', chrome_options=chrome_options)"
   ]
  },
  {
   "cell_type": "code",
   "execution_count": 8,
   "metadata": {},
   "outputs": [],
   "source": [
    "#use php line of code in Console page to get addresses: \n",
    "# urls = $$('a'); for (url in urls) console.log ( urls[url].href );"
   ]
  },
  {
   "cell_type": "code",
   "execution_count": 9,
   "metadata": {},
   "outputs": [],
   "source": [
    "all_bases = '''anniston-army-depot\n",
    " fort-rucker\n",
    " maxwell-afb-and-gunter-annex\n",
    " redstone-arsenal\n",
    " usarec-2nd-medical-recruiting-battalion\n",
    " usarec-montgomery-battalion\n",
    " davis-monthan-afb\n",
    " fort-huachuca\n",
    " luke-afb\n",
    " mcas-yuma\n",
    " usarec-phoenix-battalion\n",
    " yuma-proving-ground\n",
    " little-rock-afb\n",
    " pine-bluff-arsenal\n",
    " beale-afb\n",
    " camp-parks\n",
    " camp-pendleton\n",
    " defense-distribution-depot-san-joaquin\n",
    " edwards-afb\n",
    " fort-hunter-liggett\n",
    " fort-irwin\n",
    " los-angeles-afb\n",
    " march-arb\n",
    " marine-corps-air-station-miramar\n",
    " marine-corps-mountain-warfare-training-center-mwtc\n",
    " mclb-barstow\n",
    " mcrd-san-diego\n",
    " naval-air-facility-el-centro\n",
    " naval-air-station-lemoore\n",
    " naval-air-weapons-station-china-lake\n",
    " naval-base-coronado\n",
    " naval-base-point-loma\n",
    " naval-base-san-diego\n",
    " naval-base-ventura-county-point-mugu-port-hueneme\n",
    " naval-support-activity-monterey\n",
    " presidio-of-monterey-dli-flc\n",
    " travis-air-force-base\n",
    " twentynine-palms-mcagcc\n",
    " usarec-los-angeles-battalion\n",
    " usarec-southern-california-battalion\n",
    " usarec-us-army-battalion-central-california\n",
    " usarec-us-army-recruiting-battalion-northern-california\n",
    " vandenberg-afb\n",
    " buckley-afb\n",
    " fort-carson\n",
    " peterson-afb\n",
    " schriever-afb\n",
    " usaf-academy\n",
    " usarec-denver-battalion\n",
    " naval-submarine-base-new-london\n",
    " dover-afb\n",
    " joint-base-anacostia-bolling\n",
    " naval-support-activity-washington\n",
    " pentagon-air-force\n",
    " eglin-afb\n",
    " hurlburt-field\n",
    " macdill-afb\n",
    " naval-air-station-jacksonville\n",
    " naval-air-station-key-west\n",
    " naval-air-station-pensacola\n",
    " naval-air-station-whiting-field\n",
    " naval-station-mayport\n",
    " naval-support-activity-orlando\n",
    " naval-support-activity-panama-city\n",
    " patrick-afb\n",
    " tyndall-afb\n",
    " usarec-jacksonville-battalion\n",
    " usarec-miami-battalion\n",
    " usarec-tampa-battalion\n",
    " ussouthcom-u-s-army-garrison-miami\n",
    " fort-benning\n",
    " fort-gordon\n",
    " fort-stewart\n",
    " hunter-army-airfield\n",
    " marine-corps-logistics-base-albany\n",
    " moody-afb\n",
    " naval-submarine-base-kings-bay\n",
    " robins-afb\n",
    " us-army-cadet-command-6th-brigade\n",
    " usarec-atlanta-battalion\n",
    " mountain-home-afb\n",
    " naval-station-great-lakes\n",
    " rock-island-arsenal\n",
    " scott-air-force-base\n",
    " us-army-cadet-command-3rd-brigade\n",
    " usarec-chicago-battalion\n",
    " naval-support-activity-crane\n",
    " usarec-indianapolis-battalion\n",
    " fort-leavenworth\n",
    " fort-riley\n",
    " mcconnell-afb\n",
    " fort-campbell\n",
    " fort-knox\n",
    " us-army-cadet-command-1st-brigade\n",
    " us-army-cadet-command-7th-brigade\n",
    " us-army-cadet-command-headquarters\n",
    " usarec-3rd-medical-recruiting-battalion\n",
    " usarec-columbus-battalion\n",
    " barksdale-air-force-base\n",
    " fort-polk\n",
    " naval-air-station-joint-reserve-base-new-orleans\n",
    " usarec-baton-rouge-battalion\n",
    " portsmouth-naval-shipyard\n",
    " usarec-new-england-battalion\n",
    " aberdeen-proving-ground\n",
    " fort-detrick\n",
    " fort-george-g-meade\n",
    " fort-george-g-meade-navy\n",
    " joint-base-andrews-naval-air-facility-washington\n",
    " naval-air-station-patuxent-river\n",
    " naval-support-activity-annapolis-u-s-naval-academy\n",
    " naval-support-activity-bethesda-home-of-walter-reed-national-military-medical-center\n",
    " naval-support-activity-south-potomac-nsf-indian-head\n",
    " usarec-1st-medical-recruiting-battalion\n",
    " usarec-baltimore-battalion\n",
    " hanscom-afb\n",
    " natick-soldier-systems-center-nssc\n",
    " westover-arb\n",
    " hart-dole-inouye-federal-center\n",
    " u-s-army-garrison-detroit-arsenal\n",
    " usarec-great-lakes-battalion\n",
    " usarec-minneapolis-battalion\n",
    " columbus-afb\n",
    " keesler-afb\n",
    " naval-air-station-meridian\n",
    " naval-construction-battalion-center-gulfport\n",
    " stennis-space-center\n",
    " fort-leonard-wood\n",
    " usarec-kansas-city-battalion\n",
    " whiteman-afb\n",
    " malmstrom-air-force-base\n",
    " offutt-afb\n",
    " creech-afb\n",
    " naval-air-station-fallon\n",
    " nellis-afb\n",
    " usarec-6th-medical-recruiting-battalion\n",
    " joint-base-mcguire-dix-lakehurst\n",
    " naval-weapons-station-earle\n",
    " picatinny-arsenal\n",
    " us-army-cadet-command-2nd-brigade\n",
    " usarec-mid-atlantic-battalion\n",
    " cannon-afb\n",
    " holloman-afb\n",
    " kirtland-air-force-base\n",
    " u-s-army-garrison-white-sands-missile-range\n",
    " fort-drum\n",
    " fort-hamilton\n",
    " naval-support-activity-saratoga-springs\n",
    " united-states-military-academy-at-west-point\n",
    " usarec-albany-battalion\n",
    " usarec-new-york-city-battalion\n",
    " usarec-syracuse-battalion\n",
    " camp-lejeune\n",
    " fort-bragg\n",
    " mcas-cherry-point\n",
    " mcas-new-river\n",
    " pope-army-airfield\n",
    " seymour-johnson-afb\n",
    " us-army-cadet-command-4th-brigade\n",
    " usarec-raleigh-battalion\n",
    " grand-forks-afb\n",
    " minot-afb\n",
    " defense-supply-center-columbus\n",
    " usarec-cleveland-battalion\n",
    " usarec-columbus-battalion\n",
    " wright-patterson-afb\n",
    " altus-afb\n",
    " fort-sill\n",
    " mcalester-army-ammunition-plant\n",
    " tinker-afb\n",
    " usarec-oklahoma-city-battalion\n",
    " vance-afb\n",
    " usarec-portland-battalion\n",
    " carlisle-barracks\n",
    " defense-logistics-agency-at-susquehanna\n",
    " tobyhanna-army-depot\n",
    " usarec-harrisburg-battalion\n",
    " naval-station-newport\n",
    " fort-jackson\n",
    " joint-base-charleston\n",
    " mcas-beaufort\n",
    " mcrd-parris-island\n",
    " shaw-air-force-base\n",
    " usarec-columbia-recruiting-battalion\n",
    " ellsworth-air-force-base\n",
    " arnold-afb\n",
    " naval-support-activity-mid-south\n",
    " usarec-nashville-battalion\n",
    " dyess-afb\n",
    " fort-bliss\n",
    " fort-hood\n",
    " goodfellow-afb\n",
    " joint-base-san-antonio-lackland-randolph-sam-houston\n",
    " laughlin-afb\n",
    " naval-air-station-corpus-christi\n",
    " naval-air-station-joint-reserve-base-fort-worth\n",
    " naval-air-station-kingsville\n",
    " red-river-army-depot\n",
    " sheppard-afb\n",
    " us-army-cadet-command-5th-brigade\n",
    " usarec-5th-medical-recruiting-battalion\n",
    " usarec-dallas-battalion\n",
    " usarec-houston-battalion\n",
    " usarec-san-antonio-battalion\n",
    " dugway-proving-ground\n",
    " hill-afb\n",
    " usarec-salt-lake-city-battalion\n",
    " defense-supply-center-richmond\n",
    " dla-mcnamara-hqc\n",
    " fort-belvoir\n",
    " fort-lee\n",
    " fort-myer-joint-base-myer-henderson-hall\n",
    " henderson-hall-joint-base-myer-henderson-hall\n",
    " joint-base-langley-eustis\n",
    " joint-expeditionary-base-little-creek-fort-story\n",
    " marine-corps-base-quantico\n",
    " mccs-hampton-roads\n",
    " naval-air-station-oceana\n",
    " naval-air-station-oceana-dam-neck-annex\n",
    " naval-station-norfolk\n",
    " naval-support-activity-hampton-roads-northwest-annex\n",
    " naval-support-activity-south-potomac-nsf-dahlgren\n",
    " naval-weapons-station-yorktown\n",
    " newport-news-shipyard\n",
    " norfolk-naval-shipyard\n",
    " surface-combat-systems-center-wallops-island\n",
    " usarec-richmond-recruiting-battalion\n",
    " fairchild-afb\n",
    " joint-base-lewis-mcchord\n",
    " naval-air-station-whidbey-island\n",
    " naval-base-kitsap\n",
    " naval-station-everett\n",
    " us-army-cadet-command-8th-brigade\n",
    " usarec-seattle-battalion\n",
    " fort-mccoy\n",
    " usarec-milwaukee-battalion\n",
    " f-e-warren-afb'''"
   ]
  },
  {
   "cell_type": "code",
   "execution_count": 10,
   "metadata": {},
   "outputs": [],
   "source": [
    "all_bases = all_bases.split('\\n ')"
   ]
  },
  {
   "cell_type": "markdown",
   "metadata": {},
   "source": [
    "## Step by Step Test"
   ]
  },
  {
   "cell_type": "code",
   "execution_count": null,
   "metadata": {},
   "outputs": [],
   "source": []
  },
  {
   "cell_type": "code",
   "execution_count": null,
   "metadata": {},
   "outputs": [],
   "source": [
    "driver.get('https://installations.militaryonesource.mil/military-installation/marine-corps-base-quantico')"
   ]
  },
  {
   "cell_type": "code",
   "execution_count": null,
   "metadata": {},
   "outputs": [],
   "source": [
    "html = driver.page_source\n",
    "html"
   ]
  },
  {
   "cell_type": "code",
   "execution_count": null,
   "metadata": {},
   "outputs": [],
   "source": [
    "soup1 = BeautifulSoup(html, 'html.parser')"
   ]
  },
  {
   "cell_type": "code",
   "execution_count": null,
   "metadata": {},
   "outputs": [],
   "source": [
    "soup1"
   ]
  },
  {
   "cell_type": "code",
   "execution_count": null,
   "metadata": {},
   "outputs": [],
   "source": [
    "soup1.find('p', {'data-ng-if':'oCard.addressline2'})"
   ]
  },
  {
   "cell_type": "code",
   "execution_count": null,
   "metadata": {},
   "outputs": [],
   "source": [
    "soup1.find_all('p')"
   ]
  },
  {
   "cell_type": "code",
   "execution_count": null,
   "metadata": {},
   "outputs": [],
   "source": [
    "result = soup1.find('p', {'data-ng-if':'oCard.addressline2'})"
   ]
  },
  {
   "cell_type": "code",
   "execution_count": null,
   "metadata": {},
   "outputs": [],
   "source": [
    "result"
   ]
  },
  {
   "cell_type": "code",
   "execution_count": null,
   "metadata": {},
   "outputs": [],
   "source": [
    "text = result.get_text()"
   ]
  },
  {
   "cell_type": "code",
   "execution_count": null,
   "metadata": {},
   "outputs": [],
   "source": [
    "text"
   ]
  },
  {
   "cell_type": "code",
   "execution_count": null,
   "metadata": {},
   "outputs": [],
   "source": [
    "empty.append(text)"
   ]
  },
  {
   "cell_type": "code",
   "execution_count": null,
   "metadata": {},
   "outputs": [],
   "source": [
    "empty"
   ]
  },
  {
   "cell_type": "code",
   "execution_count": null,
   "metadata": {},
   "outputs": [],
   "source": [
    "type(all_bases[0])"
   ]
  },
  {
   "cell_type": "code",
   "execution_count": 13,
   "metadata": {},
   "outputs": [],
   "source": [
    "addresses = []"
   ]
  },
  {
   "cell_type": "markdown",
   "metadata": {},
   "source": [
    "# For Loop Scraper"
   ]
  },
  {
   "cell_type": "code",
   "execution_count": 16,
   "metadata": {},
   "outputs": [
    {
     "name": "stderr",
     "output_type": "stream",
     "text": [
      "C:\\Users\\602770\\AppData\\Local\\Continuum\\anaconda3\\lib\\site-packages\\ipykernel_launcher.py:3: DeprecationWarning: use options instead of chrome_options\n",
      "  This is separate from the ipykernel package so we can avoid doing imports until\n"
     ]
    },
    {
     "name": "stdout",
     "output_type": "stream",
     "text": [
      "None\n",
      "None\n",
      "None\n",
      "None\n",
      "None\n",
      "None\n",
      "None\n",
      "None\n",
      "None\n",
      "None\n",
      "None\n",
      "None\n",
      "None\n",
      "None\n",
      "None\n",
      "None\n"
     ]
    },
    {
     "ename": "KeyboardInterrupt",
     "evalue": "",
     "output_type": "error",
     "traceback": [
      "\u001b[1;31m---------------------------------------------------------------------------\u001b[0m",
      "\u001b[1;31mtimeout\u001b[0m                                   Traceback (most recent call last)",
      "\u001b[1;32m~\\AppData\\Local\\Continuum\\anaconda3\\lib\\socket.py\u001b[0m in \u001b[0;36mcreate_connection\u001b[1;34m(address, timeout, source_address)\u001b[0m\n\u001b[0;32m    715\u001b[0m                 \u001b[0msock\u001b[0m\u001b[1;33m.\u001b[0m\u001b[0mbind\u001b[0m\u001b[1;33m(\u001b[0m\u001b[0msource_address\u001b[0m\u001b[1;33m)\u001b[0m\u001b[1;33m\u001b[0m\u001b[1;33m\u001b[0m\u001b[0m\n\u001b[1;32m--> 716\u001b[1;33m             \u001b[0msock\u001b[0m\u001b[1;33m.\u001b[0m\u001b[0mconnect\u001b[0m\u001b[1;33m(\u001b[0m\u001b[0msa\u001b[0m\u001b[1;33m)\u001b[0m\u001b[1;33m\u001b[0m\u001b[1;33m\u001b[0m\u001b[0m\n\u001b[0m\u001b[0;32m    717\u001b[0m             \u001b[1;31m# Break explicitly a reference cycle\u001b[0m\u001b[1;33m\u001b[0m\u001b[1;33m\u001b[0m\u001b[1;33m\u001b[0m\u001b[0m\n",
      "\u001b[1;31mtimeout\u001b[0m: timed out",
      "\nDuring handling of the above exception, another exception occurred:\n",
      "\u001b[1;31mKeyboardInterrupt\u001b[0m                         Traceback (most recent call last)",
      "\u001b[1;32m<ipython-input-16-ee0c24a17f08>\u001b[0m in \u001b[0;36m<module>\u001b[1;34m\u001b[0m\n\u001b[0;32m     18\u001b[0m         \u001b[0maddresses\u001b[0m\u001b[1;33m.\u001b[0m\u001b[0mappend\u001b[0m\u001b[1;33m(\u001b[0m\u001b[1;33m(\u001b[0m\u001b[0mall_bases\u001b[0m\u001b[1;33m[\u001b[0m\u001b[0mi\u001b[0m\u001b[1;33m]\u001b[0m\u001b[1;33m,\u001b[0m\u001b[0mtext\u001b[0m\u001b[1;33m)\u001b[0m\u001b[1;33m)\u001b[0m\u001b[1;33m\u001b[0m\u001b[1;33m\u001b[0m\u001b[0m\n\u001b[0;32m     19\u001b[0m \u001b[1;33m\u001b[0m\u001b[0m\n\u001b[1;32m---> 20\u001b[1;33m     \u001b[0mdriver\u001b[0m\u001b[1;33m.\u001b[0m\u001b[0mquit\u001b[0m\u001b[1;33m(\u001b[0m\u001b[1;33m)\u001b[0m\u001b[1;33m\u001b[0m\u001b[1;33m\u001b[0m\u001b[0m\n\u001b[0m",
      "\u001b[1;32m~\\AppData\\Local\\Continuum\\anaconda3\\lib\\site-packages\\selenium\\webdriver\\chrome\\webdriver.py\u001b[0m in \u001b[0;36mquit\u001b[1;34m(self)\u001b[0m\n\u001b[0;32m    156\u001b[0m             \u001b[1;32mpass\u001b[0m\u001b[1;33m\u001b[0m\u001b[1;33m\u001b[0m\u001b[0m\n\u001b[0;32m    157\u001b[0m         \u001b[1;32mfinally\u001b[0m\u001b[1;33m:\u001b[0m\u001b[1;33m\u001b[0m\u001b[1;33m\u001b[0m\u001b[0m\n\u001b[1;32m--> 158\u001b[1;33m             \u001b[0mself\u001b[0m\u001b[1;33m.\u001b[0m\u001b[0mservice\u001b[0m\u001b[1;33m.\u001b[0m\u001b[0mstop\u001b[0m\u001b[1;33m(\u001b[0m\u001b[1;33m)\u001b[0m\u001b[1;33m\u001b[0m\u001b[1;33m\u001b[0m\u001b[0m\n\u001b[0m\u001b[0;32m    159\u001b[0m \u001b[1;33m\u001b[0m\u001b[0m\n\u001b[0;32m    160\u001b[0m     \u001b[1;32mdef\u001b[0m \u001b[0mcreate_options\u001b[0m\u001b[1;33m(\u001b[0m\u001b[0mself\u001b[0m\u001b[1;33m)\u001b[0m\u001b[1;33m:\u001b[0m\u001b[1;33m\u001b[0m\u001b[1;33m\u001b[0m\u001b[0m\n",
      "\u001b[1;32m~\\AppData\\Local\\Continuum\\anaconda3\\lib\\site-packages\\selenium\\webdriver\\common\\service.py\u001b[0m in \u001b[0;36mstop\u001b[1;34m(self)\u001b[0m\n\u001b[0;32m    149\u001b[0m \u001b[1;33m\u001b[0m\u001b[0m\n\u001b[0;32m    150\u001b[0m         \u001b[1;32mtry\u001b[0m\u001b[1;33m:\u001b[0m\u001b[1;33m\u001b[0m\u001b[1;33m\u001b[0m\u001b[0m\n\u001b[1;32m--> 151\u001b[1;33m             \u001b[0mself\u001b[0m\u001b[1;33m.\u001b[0m\u001b[0msend_remote_shutdown_command\u001b[0m\u001b[1;33m(\u001b[0m\u001b[1;33m)\u001b[0m\u001b[1;33m\u001b[0m\u001b[1;33m\u001b[0m\u001b[0m\n\u001b[0m\u001b[0;32m    152\u001b[0m         \u001b[1;32mexcept\u001b[0m \u001b[0mTypeError\u001b[0m\u001b[1;33m:\u001b[0m\u001b[1;33m\u001b[0m\u001b[1;33m\u001b[0m\u001b[0m\n\u001b[0;32m    153\u001b[0m             \u001b[1;32mpass\u001b[0m\u001b[1;33m\u001b[0m\u001b[1;33m\u001b[0m\u001b[0m\n",
      "\u001b[1;32m~\\AppData\\Local\\Continuum\\anaconda3\\lib\\site-packages\\selenium\\webdriver\\common\\service.py\u001b[0m in \u001b[0;36msend_remote_shutdown_command\u001b[1;34m(self)\u001b[0m\n\u001b[0;32m    130\u001b[0m \u001b[1;33m\u001b[0m\u001b[0m\n\u001b[0;32m    131\u001b[0m         \u001b[1;32mfor\u001b[0m \u001b[0mx\u001b[0m \u001b[1;32min\u001b[0m \u001b[0mrange\u001b[0m\u001b[1;33m(\u001b[0m\u001b[1;36m30\u001b[0m\u001b[1;33m)\u001b[0m\u001b[1;33m:\u001b[0m\u001b[1;33m\u001b[0m\u001b[1;33m\u001b[0m\u001b[0m\n\u001b[1;32m--> 132\u001b[1;33m             \u001b[1;32mif\u001b[0m \u001b[1;32mnot\u001b[0m \u001b[0mself\u001b[0m\u001b[1;33m.\u001b[0m\u001b[0mis_connectable\u001b[0m\u001b[1;33m(\u001b[0m\u001b[1;33m)\u001b[0m\u001b[1;33m:\u001b[0m\u001b[1;33m\u001b[0m\u001b[1;33m\u001b[0m\u001b[0m\n\u001b[0m\u001b[0;32m    133\u001b[0m                 \u001b[1;32mbreak\u001b[0m\u001b[1;33m\u001b[0m\u001b[1;33m\u001b[0m\u001b[0m\n\u001b[0;32m    134\u001b[0m             \u001b[1;32melse\u001b[0m\u001b[1;33m:\u001b[0m\u001b[1;33m\u001b[0m\u001b[1;33m\u001b[0m\u001b[0m\n",
      "\u001b[1;32m~\\AppData\\Local\\Continuum\\anaconda3\\lib\\site-packages\\selenium\\webdriver\\common\\service.py\u001b[0m in \u001b[0;36mis_connectable\u001b[1;34m(self)\u001b[0m\n\u001b[0;32m    113\u001b[0m \u001b[1;33m\u001b[0m\u001b[0m\n\u001b[0;32m    114\u001b[0m     \u001b[1;32mdef\u001b[0m \u001b[0mis_connectable\u001b[0m\u001b[1;33m(\u001b[0m\u001b[0mself\u001b[0m\u001b[1;33m)\u001b[0m\u001b[1;33m:\u001b[0m\u001b[1;33m\u001b[0m\u001b[1;33m\u001b[0m\u001b[0m\n\u001b[1;32m--> 115\u001b[1;33m         \u001b[1;32mreturn\u001b[0m \u001b[0mutils\u001b[0m\u001b[1;33m.\u001b[0m\u001b[0mis_connectable\u001b[0m\u001b[1;33m(\u001b[0m\u001b[0mself\u001b[0m\u001b[1;33m.\u001b[0m\u001b[0mport\u001b[0m\u001b[1;33m)\u001b[0m\u001b[1;33m\u001b[0m\u001b[1;33m\u001b[0m\u001b[0m\n\u001b[0m\u001b[0;32m    116\u001b[0m \u001b[1;33m\u001b[0m\u001b[0m\n\u001b[0;32m    117\u001b[0m     \u001b[1;32mdef\u001b[0m \u001b[0msend_remote_shutdown_command\u001b[0m\u001b[1;33m(\u001b[0m\u001b[0mself\u001b[0m\u001b[1;33m)\u001b[0m\u001b[1;33m:\u001b[0m\u001b[1;33m\u001b[0m\u001b[1;33m\u001b[0m\u001b[0m\n",
      "\u001b[1;32m~\\AppData\\Local\\Continuum\\anaconda3\\lib\\site-packages\\selenium\\webdriver\\common\\utils.py\u001b[0m in \u001b[0;36mis_connectable\u001b[1;34m(port, host)\u001b[0m\n\u001b[0;32m    104\u001b[0m     \u001b[0msocket_\u001b[0m \u001b[1;33m=\u001b[0m \u001b[1;32mNone\u001b[0m\u001b[1;33m\u001b[0m\u001b[1;33m\u001b[0m\u001b[0m\n\u001b[0;32m    105\u001b[0m     \u001b[1;32mtry\u001b[0m\u001b[1;33m:\u001b[0m\u001b[1;33m\u001b[0m\u001b[1;33m\u001b[0m\u001b[0m\n\u001b[1;32m--> 106\u001b[1;33m         \u001b[0msocket_\u001b[0m \u001b[1;33m=\u001b[0m \u001b[0msocket\u001b[0m\u001b[1;33m.\u001b[0m\u001b[0mcreate_connection\u001b[0m\u001b[1;33m(\u001b[0m\u001b[1;33m(\u001b[0m\u001b[0mhost\u001b[0m\u001b[1;33m,\u001b[0m \u001b[0mport\u001b[0m\u001b[1;33m)\u001b[0m\u001b[1;33m,\u001b[0m \u001b[1;36m1\u001b[0m\u001b[1;33m)\u001b[0m\u001b[1;33m\u001b[0m\u001b[1;33m\u001b[0m\u001b[0m\n\u001b[0m\u001b[0;32m    107\u001b[0m         \u001b[0mresult\u001b[0m \u001b[1;33m=\u001b[0m \u001b[1;32mTrue\u001b[0m\u001b[1;33m\u001b[0m\u001b[1;33m\u001b[0m\u001b[0m\n\u001b[0;32m    108\u001b[0m     \u001b[1;32mexcept\u001b[0m \u001b[0msocket\u001b[0m\u001b[1;33m.\u001b[0m\u001b[0merror\u001b[0m\u001b[1;33m:\u001b[0m\u001b[1;33m\u001b[0m\u001b[1;33m\u001b[0m\u001b[0m\n",
      "\u001b[1;32m~\\AppData\\Local\\Continuum\\anaconda3\\lib\\socket.py\u001b[0m in \u001b[0;36mcreate_connection\u001b[1;34m(address, timeout, source_address)\u001b[0m\n\u001b[0;32m    714\u001b[0m             \u001b[1;32mif\u001b[0m \u001b[0msource_address\u001b[0m\u001b[1;33m:\u001b[0m\u001b[1;33m\u001b[0m\u001b[1;33m\u001b[0m\u001b[0m\n\u001b[0;32m    715\u001b[0m                 \u001b[0msock\u001b[0m\u001b[1;33m.\u001b[0m\u001b[0mbind\u001b[0m\u001b[1;33m(\u001b[0m\u001b[0msource_address\u001b[0m\u001b[1;33m)\u001b[0m\u001b[1;33m\u001b[0m\u001b[1;33m\u001b[0m\u001b[0m\n\u001b[1;32m--> 716\u001b[1;33m             \u001b[0msock\u001b[0m\u001b[1;33m.\u001b[0m\u001b[0mconnect\u001b[0m\u001b[1;33m(\u001b[0m\u001b[0msa\u001b[0m\u001b[1;33m)\u001b[0m\u001b[1;33m\u001b[0m\u001b[1;33m\u001b[0m\u001b[0m\n\u001b[0m\u001b[0;32m    717\u001b[0m             \u001b[1;31m# Break explicitly a reference cycle\u001b[0m\u001b[1;33m\u001b[0m\u001b[1;33m\u001b[0m\u001b[1;33m\u001b[0m\u001b[0m\n\u001b[0;32m    718\u001b[0m             \u001b[0merr\u001b[0m \u001b[1;33m=\u001b[0m \u001b[1;32mNone\u001b[0m\u001b[1;33m\u001b[0m\u001b[1;33m\u001b[0m\u001b[0m\n",
      "\u001b[1;31mKeyboardInterrupt\u001b[0m: "
     ]
    }
   ],
   "source": [
    "for i in range(1, 50):\n",
    "    driver = webdriver.Chrome(executable_path='C:/Users/602770/Downloads/driver/chromedriver.exe', \n",
    "                              chrome_options=chrome_options)\n",
    "\n",
    "    driver.get('https://installations.militaryonesource.mil/military-installation/' + all_bases[i])\n",
    "   \n",
    "    html = driver.page_source\n",
    "    soup = BeautifulSoup(html, 'html.parser')\n",
    "    print(soup.find('p', {'data-ng-if':'oCard.addressline2'} ))\n",
    "    result = soup.find('p', {'data-ng-if':'oCard.addressline2'})\n",
    "    print(result)\n",
    "    \n",
    "    if result == None:\n",
    "        addresses.append((all_bases[i],'None'))\n",
    "    \n",
    "    else:\n",
    "        text = result.get_text()\n",
    "        addresses.append((all_bases[i],text))\n",
    "   \n",
    "    driver.quit()"
   ]
  },
  {
   "cell_type": "code",
   "execution_count": 17,
   "metadata": {},
   "outputs": [
    {
     "data": {
      "text/plain": [
       "['None',\n",
       " ('fort-rucker', 'None'),\n",
       " ('maxwell-afb-and-gunter-annex', 'None'),\n",
       " ('redstone-arsenal', 'None'),\n",
       " ('usarec-2nd-medical-recruiting-battalion', 'None'),\n",
       " ('usarec-montgomery-battalion', 'None'),\n",
       " ('davis-monthan-afb', 'None'),\n",
       " ('fort-huachuca', 'None'),\n",
       " ('luke-afb', 'None')]"
      ]
     },
     "execution_count": 17,
     "metadata": {},
     "output_type": "execute_result"
    }
   ],
   "source": [
    "addresses"
   ]
  },
  {
   "cell_type": "code",
   "execution_count": null,
   "metadata": {},
   "outputs": [],
   "source": [
    "driver.get('https://installations.militaryonesource.mil/military-installation/' + all_bases[12])\n",
    "html = driver.page_source\n",
    "soup = BeautifulSoup(html, 'html.parser')\n",
    "print(soup.find('p', {'data-ng-if':'oCard.addressline2'} ))\n",
    "#     result = soup.find('p', {'data-ng-if':'oCard.addressline2'})\n",
    "#     print(result)\n",
    "#     text = result.get_text()\n",
    "#         addresses.append(text)"
   ]
  },
  {
   "cell_type": "code",
   "execution_count": null,
   "metadata": {},
   "outputs": [],
   "source": [
    "driver.get('https://installations.militaryonesource.mil/military-installation/' + all_bases[5])"
   ]
  },
  {
   "cell_type": "code",
   "execution_count": null,
   "metadata": {},
   "outputs": [],
   "source": [
    "html = driver.page_source\n",
    "html"
   ]
  },
  {
   "cell_type": "code",
   "execution_count": null,
   "metadata": {},
   "outputs": [],
   "source": [
    "soup = BeautifulSoup(html, 'html.parser')\n",
    "soup"
   ]
  },
  {
   "cell_type": "code",
   "execution_count": null,
   "metadata": {},
   "outputs": [],
   "source": [
    "soup.find('p', {'data-ng-if':'oCard.addressline2'} )"
   ]
  },
  {
   "cell_type": "code",
   "execution_count": null,
   "metadata": {},
   "outputs": [],
   "source": [
    "what = soup.find('p', {'data-ng-if':'oCard.addressline2'} )\n",
    "what.get_text()"
   ]
  },
  {
   "cell_type": "code",
   "execution_count": null,
   "metadata": {},
   "outputs": [],
   "source": [
    "driver.get('https://installations.militaryonesource.mil/military-installation/' + all_bases[1])\n",
    "html = driver.page_source\n",
    "soup = BeautifulSoup(html, 'html.parser')\n",
    "result = soup.find('p', {'data-ng-if':'oCard.addressline2'})\n",
    "print(result)"
   ]
  },
  {
   "cell_type": "code",
   "execution_count": null,
   "metadata": {},
   "outputs": [],
   "source": [
    "for i in range(7,10):\n",
    "    driver.get('https://installations.militaryonesource.mil/military-installation/' + all_bases[i])\n",
    "    print('https://installations.militaryonesource.mil/military-installation/' + all_bases[i])\n",
    "   "
   ]
  },
  {
   "cell_type": "code",
   "execution_count": null,
   "metadata": {},
   "outputs": [],
   "source": [
    "# Import necessary packages\n",
    "# for each base, get url:\n",
    "#     convert html to string\n",
    "#     use beautiful soup to find relevant info.\n",
    "#     append it to empty list\n",
    "\n",
    "# filter for only air force\n",
    "# save file "
   ]
  },
  {
   "cell_type": "code",
   "execution_count": null,
   "metadata": {},
   "outputs": [],
   "source": []
  },
  {
   "cell_type": "code",
   "execution_count": null,
   "metadata": {},
   "outputs": [],
   "source": []
  },
  {
   "cell_type": "code",
   "execution_count": null,
   "metadata": {},
   "outputs": [],
   "source": []
  },
  {
   "cell_type": "code",
   "execution_count": null,
   "metadata": {},
   "outputs": [],
   "source": []
  },
  {
   "cell_type": "code",
   "execution_count": null,
   "metadata": {},
   "outputs": [],
   "source": []
  },
  {
   "cell_type": "code",
   "execution_count": null,
   "metadata": {},
   "outputs": [],
   "source": []
  },
  {
   "cell_type": "code",
   "execution_count": null,
   "metadata": {},
   "outputs": [],
   "source": []
  },
  {
   "cell_type": "code",
   "execution_count": null,
   "metadata": {},
   "outputs": [],
   "source": []
  },
  {
   "cell_type": "code",
   "execution_count": null,
   "metadata": {},
   "outputs": [],
   "source": []
  },
  {
   "cell_type": "code",
   "execution_count": null,
   "metadata": {},
   "outputs": [],
   "source": []
  },
  {
   "cell_type": "code",
   "execution_count": null,
   "metadata": {},
   "outputs": [],
   "source": []
  },
  {
   "cell_type": "code",
   "execution_count": null,
   "metadata": {},
   "outputs": [],
   "source": []
  },
  {
   "cell_type": "code",
   "execution_count": null,
   "metadata": {},
   "outputs": [],
   "source": []
  }
 ],
 "metadata": {
  "kernelspec": {
   "display_name": "Python 3",
   "language": "python",
   "name": "python3"
  },
  "language_info": {
   "codemirror_mode": {
    "name": "ipython",
    "version": 3
   },
   "file_extension": ".py",
   "mimetype": "text/x-python",
   "name": "python",
   "nbconvert_exporter": "python",
   "pygments_lexer": "ipython3",
   "version": "3.7.3"
  }
 },
 "nbformat": 4,
 "nbformat_minor": 2
}
